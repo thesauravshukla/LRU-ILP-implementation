{
  "nbformat": 4,
  "nbformat_minor": 0,
  "metadata": {
    "colab": {
      "provenance": []
    },
    "kernelspec": {
      "name": "python3",
      "display_name": "Python 3"
    },
    "language_info": {
      "name": "python"
    }
  },
  "cells": [
    {
      "cell_type": "code",
      "execution_count": null,
      "metadata": {
        "colab": {
          "base_uri": "https://localhost:8080/"
        },
        "id": "5nMx4lFFLrJy",
        "outputId": "880b4a0f-2e3a-47d3-aaed-44e7fcc0e012"
      },
      "outputs": [
        {
          "output_type": "stream",
          "name": "stdout",
          "text": [
            "Looking in indexes: https://pypi.org/simple, https://us-python.pkg.dev/colab-wheels/public/simple/\n",
            "Collecting gurobipy\n",
            "  Downloading gurobipy-10.0.0-cp37-cp37m-manylinux2014_x86_64.whl (12.9 MB)\n",
            "\u001b[K     |████████████████████████████████| 12.9 MB 22.5 MB/s \n",
            "\u001b[?25hInstalling collected packages: gurobipy\n",
            "Successfully installed gurobipy-10.0.0\n"
          ]
        }
      ],
      "source": [
        "%pip install gurobipy"
      ]
    },
    {
      "cell_type": "code",
      "source": [
        "import gurobipy as gp\n",
        "from gurobipy import GRB\n",
        "import random\n",
        "import numpy as np"
      ],
      "metadata": {
        "id": "ZG_TcrTsMZt3"
      },
      "execution_count": null,
      "outputs": []
    },
    {
      "cell_type": "code",
      "source": [
        "cacheSize = 2           #Number of lines per cache\n",
        "lineSize = 2            #Number of memory objects in each cache line\n",
        "accessSeqSize = 5      #Number of memory objects being accessed\n",
        "memoryObjectCount = 10  #Number of distinct memory objects being accessed\n",
        "setCount = 8            #Number of Cache Sets"
      ],
      "metadata": {
        "id": "eEam-pYIMGpT"
      },
      "execution_count": null,
      "outputs": []
    },
    {
      "cell_type": "code",
      "source": [
        "accessSeq = []\n",
        "for i in range (0,accessSeqSize):\n",
        "  n = random.randint(0,memoryObjectCount-1)\n",
        "  accessSeq.append(n)"
      ],
      "metadata": {
        "id": "DeK_q-ucMT3n"
      },
      "execution_count": null,
      "outputs": []
    },
    {
      "cell_type": "code",
      "source": [
        "print(accessSeq)"
      ],
      "metadata": {
        "colab": {
          "base_uri": "https://localhost:8080/"
        },
        "id": "t7DHs81lMy7S",
        "outputId": "b15d3f66-9cfd-432b-fb60-ab08d66179aa"
      },
      "execution_count": null,
      "outputs": [
        {
          "output_type": "stream",
          "name": "stdout",
          "text": [
            "[3, 6, 1, 0, 8]\n"
          ]
        }
      ]
    },
    {
      "cell_type": "code",
      "source": [
        "m = gp.Model('LRU')"
      ],
      "metadata": {
        "id": "vJt2tBTePB8X",
        "colab": {
          "base_uri": "https://localhost:8080/"
        },
        "outputId": "78e3a8eb-8332-4c3a-bfa0-afea5e7fc2b3"
      },
      "execution_count": null,
      "outputs": [
        {
          "output_type": "stream",
          "name": "stdout",
          "text": [
            "Restricted license - for non-production use only - expires 2024-10-28\n"
          ]
        }
      ]
    },
    {
      "cell_type": "code",
      "source": [
        "x = m.addVars(setCount,memoryObjectCount,memoryObjectCount,vtype=GRB.BINARY)"
      ],
      "metadata": {
        "id": "c1CtHx0PPGEf"
      },
      "execution_count": null,
      "outputs": []
    },
    {
      "cell_type": "code",
      "source": [
        "age = m.addVars(setCount,memoryObjectCount,accessSeqSize+1,vtype=GRB.INTEGER) #variables to store ages of all accessed objects over time"
      ],
      "metadata": {
        "id": "8TViWyugOwWC"
      },
      "execution_count": null,
      "outputs": []
    },
    {
      "cell_type": "code",
      "source": [
        "multiplicationMatrix = m.addVars(setCount,memoryObjectCount,accessSeqSize,vtype=GRB.INTEGER) "
      ],
      "metadata": {
        "id": "-oEMDKO7QjOg"
      },
      "execution_count": null,
      "outputs": []
    },
    {
      "cell_type": "code",
      "source": [
        "neg = m.addVars(setCount,memoryObjectCount,accessSeqSize,vtype = GRB.BINARY)"
      ],
      "metadata": {
        "id": "TGGG4ukG6T5O"
      },
      "execution_count": null,
      "outputs": []
    },
    {
      "cell_type": "code",
      "source": [
        "hit = m.addVars(setCount,accessSeqSize,1,vtype = GRB.BINARY)"
      ],
      "metadata": {
        "id": "_cRJLA08CuDg"
      },
      "execution_count": null,
      "outputs": []
    },
    {
      "cell_type": "code",
      "source": [
        "accessedObjectAge = m.addVars(accessSeqSize,1,vtype=GRB.INTEGER)"
      ],
      "metadata": {
        "id": "_y5OrZo9zGUP"
      },
      "execution_count": null,
      "outputs": []
    },
    {
      "cell_type": "code",
      "source": [
        "hitCountHelper = m.addVars(setCount,accessSeqSize,1,vtype=GRB.INTEGER)"
      ],
      "metadata": {
        "id": "7YW8G5mf7LON"
      },
      "execution_count": null,
      "outputs": []
    },
    {
      "cell_type": "code",
      "source": [
        "multidimHit = m.addVars(setCount,accessSeqSize,vtype = GRB.BINARY)"
      ],
      "metadata": {
        "id": "0W2QkoAOlpAi"
      },
      "execution_count": null,
      "outputs": []
    },
    {
      "cell_type": "markdown",
      "source": [
        "For the mapping matrix 'x' where the rows represent the memory objects and columns represent the group numbers, the following inequality should hold:\n",
        "\n",
        "$\\sum_{i=0}^{setCount-1}\\sum_{k=0}^{memoryObjectCount-1} x_{i,j,k} = 1$  $ ∀ j \\in [0,memoryObjectCount-1]$\n",
        "\n",
        "\n"
      ],
      "metadata": {
        "id": "ZwHjxEc0I-93"
      }
    },
    {
      "cell_type": "code",
      "source": [
        "uniqueLineConstraint = m.addConstrs(((gp.quicksum(x[i,j,k] for i in range (0,setCount) for k in range (0,memoryObjectCount)) == 1) for j in range (0,memoryObjectCount)), name='uniqueLineConstraint')"
      ],
      "metadata": {
        "id": "c5DVeeqKQnAX"
      },
      "execution_count": null,
      "outputs": []
    },
    {
      "cell_type": "markdown",
      "source": [
        "$\\sum_{j=0}^{memoryObjectCount-1} x_{i,j,k} <= lineSize$ $ ∀ i \\in [0,setCount-1] k \\in [0,memoryObjectCount-1]$"
      ],
      "metadata": {
        "id": "PJU4ORfvLW15"
      }
    },
    {
      "cell_type": "code",
      "source": [
        "cacheSizeConstraint = m.addConstrs(((gp.quicksum(x[i,j,k] for j in range (0,memoryObjectCount)) <= lineSize) for i in range (0,setCount) for k in range (0,memoryObjectCount)), name='cacheSizeConstraint')"
      ],
      "metadata": {
        "id": "XtG7LXCih_GM"
      },
      "execution_count": null,
      "outputs": []
    },
    {
      "cell_type": "markdown",
      "source": [
        "$multiplicationMatrix_{i,j,k} = $  $x_{i,accessSeq_{k},j}$ $\\forall i \\in [0,setCount-1],\\forall j \\in [0,memoryObjectCount-1]$, $\\forall k \\in [0,accessSeqSize-1]$"
      ],
      "metadata": {
        "id": "yWpWspYSLr8j"
      }
    },
    {
      "cell_type": "code",
      "source": [
        "multiplicationMatrixConstraint = m.addConstrs((multiplicationMatrix[i,j,k] == x[i,accessSeq[k],j] for i in range (0,setCount) for j in range (0,memoryObjectCount) for k in range (0,accessSeqSize)), name='multiplicationMatrixConstraint')"
      ],
      "metadata": {
        "id": "7AEwB-NWXPYx"
      },
      "execution_count": null,
      "outputs": []
    },
    {
      "cell_type": "markdown",
      "source": [
        "$accessedObjectAge_{k} = \\sum_{j=0}^{memoryObjectCount-1} \\sum_{i=0}^{setCount-1}(multiplicationMatrix_{i,j,k}*age_{i,j,k})$ $\\forall k \\in [0,accessSeqSize-1]$"
      ],
      "metadata": {
        "id": "QJyrYkjDQLcd"
      }
    },
    {
      "cell_type": "code",
      "source": [
        "accessedObjectAgeConstraint = m.addConstrs((accessedObjectAge[k,0] == gp.quicksum(multiplicationMatrix[i,j,k]*age[i,j,k] for i in range (0,setCount) for j in range (0,memoryObjectCount)) for k in range (0,accessSeqSize)), name = 'accessedObjectAgeConstraint')"
      ],
      "metadata": {
        "id": "GQYffMkBzcMY"
      },
      "execution_count": null,
      "outputs": []
    },
    {
      "cell_type": "markdown",
      "source": [
        "$age_{i,j,k} = (accessSequenceSize + 2)$ $\\forall i \\in [0,setCount-1],\\forall j \\in [0,memoryObjectCount-1],\\forall k \\in \\{0\\}$ \n",
        "\n",
        "$age_{i,j,k} = (1-multiplicationMatrix_{i,j,k-1})*(age_{i,j,k-1} + 1)$ $\\forall i \\in [0,setCount-1]$ $ \\forall j \\in [0,memoryObjectCount-1]$, $\\forall k \\in [1,accessSeqSize]$ "
      ],
      "metadata": {
        "id": "XlWZaYHXOANe"
      }
    },
    {
      "cell_type": "code",
      "source": [
        "#Store age of each group at every access-point\n",
        "ageBoundaryConstraint = m.addConstrs((age[i,j,0] == accessSeqSize+2 for i in range(0,setCount) for j in range (0,memoryObjectCount)),name = 'ageBoundaryConstraint')\n",
        "ageConstraint = m.addConstrs((age[i,j,k] == (1-multiplicationMatrix[i,j,k-1])*(age[i,j,k-1]+1) for i in range (0,setCount) for j in range (0,memoryObjectCount) for k in range (1,accessSeqSize+1)),name = 'ageConstraint')"
      ],
      "metadata": {
        "id": "lhfXyxZWagW0"
      },
      "execution_count": null,
      "outputs": []
    },
    {
      "cell_type": "markdown",
      "source": [
        "$neg_{i,j,k} = (age_{i,j,k} <= accessedObjectAge_{k}-1)$ $\\forall i \\in [0,setCount-1]$, $\\forall j \\in [0,memoryObjectCount-1],$, $\\forall k \\in [0,accessSeqSize-1]$"
      ],
      "metadata": {
        "id": "rdivNlrhTIvH"
      }
    },
    {
      "cell_type": "code",
      "source": [
        "for i in range (0,setCount):\n",
        "  for j in range (0,memoryObjectCount):\n",
        "    for k in range (0,accessSeqSize):\n",
        "      m.addGenConstrIndicator(neg[i,j,k],  0,age[i,j,k] >=  accessedObjectAge[k,0]+1)\n",
        "      m.addGenConstrIndicator(neg[i,j,k],  1,age[i,j,k] <=  accessedObjectAge[k,0])"
      ],
      "metadata": {
        "id": "S0-vIFa6TG9H"
      },
      "execution_count": null,
      "outputs": []
    },
    {
      "cell_type": "markdown",
      "source": [
        "$hitCountHelper_{i,k} = \\sum_{j=0}^{memoryObjectCount-1}neg_{i,j,k}$ $\\forall i \\in [0,setCount-1],$ $ \\forall k \\in [0,accessSeqSize-1]$ "
      ],
      "metadata": {
        "id": "84r0CgXThDdU"
      }
    },
    {
      "cell_type": "code",
      "source": [
        "m.addConstrs(hitCountHelper[i,k,0] == gp.quicksum(neg[i,j,k] for j in range (0,memoryObjectCount)) for i in range (0,setCount) for k in range (0,accessSeqSize))"
      ],
      "metadata": {
        "id": "LqC-J_dDhGJ0"
      },
      "execution_count": null,
      "outputs": []
    },
    {
      "cell_type": "markdown",
      "source": [
        "$hit_{i,j} = (hitCountHelper_{i,j} <= cacheSize-1)$ $\\forall i \\in [0,setCount-1]$ $∀ j \\in [0,accessSeqSize-1]$"
      ],
      "metadata": {
        "id": "X8O3WZIph385"
      }
    },
    {
      "cell_type": "code",
      "source": [
        "for i in range (0,setCount):\n",
        "  for j in range (0,accessSeqSize):\n",
        "      m.addGenConstrIndicator(hit[i,j,0],  0,hitCountHelper[i,j,0] >=  cacheSize+1)\n",
        "      m.addGenConstrIndicator(hit[i,j,0],  1,hitCountHelper[i,j,0] <=  cacheSize)"
      ],
      "metadata": {
        "id": "pcaoLsa9jniU"
      },
      "execution_count": null,
      "outputs": []
    },
    {
      "cell_type": "markdown",
      "source": [
        "$multidimHit_{i,j} = (\\sum_{k=0}^{memoryObjectCount-1}multiplicationMatrix_{i,k,j})*hit_{i,j} \\forall i \\in [0,setCount-1], j \\in [0,accessSeqSize-1]$"
      ],
      "metadata": {
        "id": "cZs0t21j807c"
      }
    },
    {
      "cell_type": "code",
      "source": [
        "m.addConstrs(multidimHit[i,j] == gp.quicksum(multiplicationMatrix[i,k,j] for k in range (0,memoryObjectCount))*hit[i,j,0] for i in range (0,setCount) for j in range (0,accessSeqSize))"
      ],
      "metadata": {
        "id": "jgtCQnfZl9Vb"
      },
      "execution_count": null,
      "outputs": []
    },
    {
      "cell_type": "markdown",
      "source": [
        "$Objective$ $Function: \\sum_{i=0}^{setCount-1}\\sum_{j=0}^{accessSeqSize-1}multidimHit_{i,j}$"
      ],
      "metadata": {
        "id": "Ov0aqI80jopJ"
      }
    },
    {
      "cell_type": "code",
      "source": [
        "m.setObjective(gp.quicksum(multidimHit[i,j] for i in range (0,setCount) for j in range (0,accessSeqSize)), GRB.MAXIMIZE)"
      ],
      "metadata": {
        "id": "LB2vTt1ki190"
      },
      "execution_count": null,
      "outputs": []
    },
    {
      "cell_type": "code",
      "source": [
        "m.write('LRU.lp')"
      ],
      "metadata": {
        "id": "nVKx4Vxgn90u"
      },
      "execution_count": null,
      "outputs": []
    },
    {
      "cell_type": "code",
      "source": [
        "m.optimize()"
      ],
      "metadata": {
        "id": "PBDYMZqkoBZd"
      },
      "execution_count": null,
      "outputs": []
    }
  ]
}